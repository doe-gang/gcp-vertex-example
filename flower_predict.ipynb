{
 "cells": [
  {
   "cell_type": "markdown",
   "id": "5fbcb7e8-2ce3-4c02-9e2f-a082e0b9f19d",
   "metadata": {},
   "source": [
    "# 온라인예측"
   ]
  },
  {
   "cell_type": "code",
   "execution_count": 1,
   "id": "b2bd80aa-4d6e-494e-97bc-8afab5e006fe",
   "metadata": {},
   "outputs": [],
   "source": [
    "from google.cloud import aiplatform\n",
    "\n",
    "import numpy as np\n",
    "from PIL import Image"
   ]
  },
  {
   "cell_type": "code",
   "execution_count": 6,
   "id": "8385d619-0f83-4cd8-8cf3-6e47d8fa45af",
   "metadata": {},
   "outputs": [],
   "source": [
    "endpoint = aiplatform.Endpoint(    endpoint_name=\"projects/303664939156/locations/asia-northeast3/endpoints/4116597922672410624\")"
   ]
  },
  {
   "cell_type": "code",
   "execution_count": 3,
   "id": "0237b867-d640-429f-8126-75df0e1ac8e9",
   "metadata": {},
   "outputs": [],
   "source": [
    "IMAGE_PATH = \"test-image.jpg\"\n",
    "im = Image.open(IMAGE_PATH)"
   ]
  },
  {
   "cell_type": "code",
   "execution_count": 7,
   "id": "9f4b66e2-d1a8-432c-b3ab-5ffd83387c5c",
   "metadata": {},
   "outputs": [],
   "source": [
    "x_test = np.asarray(im).astype(np.float32).tolist()"
   ]
  },
  {
   "cell_type": "code",
   "execution_count": 8,
   "id": "cc286dd8-7c73-4c67-9cd1-0af2509a2135",
   "metadata": {},
   "outputs": [
    {
     "ename": "InvalidArgument",
     "evalue": "400 {\n    \"error\": \"input must be 4-dimensional[240,159,3]\\n\\t [[{{function_node __inference__wrapped_model_5919}}{{node sequential/resizing/resize/ResizeBilinear}}]]\"\n}",
     "output_type": "error",
     "traceback": [
      "\u001b[0;31m---------------------------------------------------------------------------\u001b[0m",
      "\u001b[0;31m_InactiveRpcError\u001b[0m                         Traceback (most recent call last)",
      "File \u001b[0;32m/opt/conda/lib/python3.10/site-packages/google/api_core/grpc_helpers.py:65\u001b[0m, in \u001b[0;36m_wrap_unary_errors.<locals>.error_remapped_callable\u001b[0;34m(*args, **kwargs)\u001b[0m\n\u001b[1;32m     64\u001b[0m \u001b[38;5;28;01mtry\u001b[39;00m:\n\u001b[0;32m---> 65\u001b[0m     \u001b[38;5;28;01mreturn\u001b[39;00m \u001b[43mcallable_\u001b[49m\u001b[43m(\u001b[49m\u001b[38;5;241;43m*\u001b[39;49m\u001b[43margs\u001b[49m\u001b[43m,\u001b[49m\u001b[43m \u001b[49m\u001b[38;5;241;43m*\u001b[39;49m\u001b[38;5;241;43m*\u001b[39;49m\u001b[43mkwargs\u001b[49m\u001b[43m)\u001b[49m\n\u001b[1;32m     66\u001b[0m \u001b[38;5;28;01mexcept\u001b[39;00m grpc\u001b[38;5;241m.\u001b[39mRpcError \u001b[38;5;28;01mas\u001b[39;00m exc:\n",
      "File \u001b[0;32m/opt/conda/lib/python3.10/site-packages/grpc/_channel.py:1161\u001b[0m, in \u001b[0;36m_UnaryUnaryMultiCallable.__call__\u001b[0;34m(self, request, timeout, metadata, credentials, wait_for_ready, compression)\u001b[0m\n\u001b[1;32m   1155\u001b[0m (\n\u001b[1;32m   1156\u001b[0m     state,\n\u001b[1;32m   1157\u001b[0m     call,\n\u001b[1;32m   1158\u001b[0m ) \u001b[38;5;241m=\u001b[39m \u001b[38;5;28mself\u001b[39m\u001b[38;5;241m.\u001b[39m_blocking(\n\u001b[1;32m   1159\u001b[0m     request, timeout, metadata, credentials, wait_for_ready, compression\n\u001b[1;32m   1160\u001b[0m )\n\u001b[0;32m-> 1161\u001b[0m \u001b[38;5;28;01mreturn\u001b[39;00m \u001b[43m_end_unary_response_blocking\u001b[49m\u001b[43m(\u001b[49m\u001b[43mstate\u001b[49m\u001b[43m,\u001b[49m\u001b[43m \u001b[49m\u001b[43mcall\u001b[49m\u001b[43m,\u001b[49m\u001b[43m \u001b[49m\u001b[38;5;28;43;01mFalse\u001b[39;49;00m\u001b[43m,\u001b[49m\u001b[43m \u001b[49m\u001b[38;5;28;43;01mNone\u001b[39;49;00m\u001b[43m)\u001b[49m\n",
      "File \u001b[0;32m/opt/conda/lib/python3.10/site-packages/grpc/_channel.py:1004\u001b[0m, in \u001b[0;36m_end_unary_response_blocking\u001b[0;34m(state, call, with_call, deadline)\u001b[0m\n\u001b[1;32m   1003\u001b[0m \u001b[38;5;28;01melse\u001b[39;00m:\n\u001b[0;32m-> 1004\u001b[0m     \u001b[38;5;28;01mraise\u001b[39;00m _InactiveRpcError(state)\n",
      "\u001b[0;31m_InactiveRpcError\u001b[0m: <_InactiveRpcError of RPC that terminated with:\n\tstatus = StatusCode.INVALID_ARGUMENT\n\tdetails = \"{\n    \"error\": \"input must be 4-dimensional[240,159,3]\\n\\t [[{{function_node __inference__wrapped_model_5919}}{{node sequential/resizing/resize/ResizeBilinear}}]]\"\n}\"\n\tdebug_error_string = \"UNKNOWN:Error received from peer ipv4:142.250.207.106:443 {created_time:\"2023-12-10T11:28:59.094163122+00:00\", grpc_status:3, grpc_message:\"{\\n    \\\"error\\\": \\\"input must be 4-dimensional[240,159,3]\\\\n\\\\t [[{{function_node __inference__wrapped_model_5919}}{{node sequential/resizing/resize/ResizeBilinear}}]]\\\"\\n}\"}\"\n>",
      "\nThe above exception was the direct cause of the following exception:\n",
      "\u001b[0;31mInvalidArgument\u001b[0m                           Traceback (most recent call last)",
      "Cell \u001b[0;32mIn[8], line 1\u001b[0m\n\u001b[0;32m----> 1\u001b[0m \u001b[43mendpoint\u001b[49m\u001b[38;5;241;43m.\u001b[39;49m\u001b[43mpredict\u001b[49m\u001b[43m(\u001b[49m\u001b[43minstances\u001b[49m\u001b[38;5;241;43m=\u001b[39;49m\u001b[43mx_test\u001b[49m\u001b[43m)\u001b[49m\u001b[38;5;241m.\u001b[39mpredictions\n",
      "File \u001b[0;32m/opt/conda/lib/python3.10/site-packages/google/cloud/aiplatform/models.py:1596\u001b[0m, in \u001b[0;36mEndpoint.predict\u001b[0;34m(self, instances, parameters, timeout, use_raw_predict)\u001b[0m\n\u001b[1;32m   1583\u001b[0m     \u001b[38;5;28;01mreturn\u001b[39;00m Prediction(\n\u001b[1;32m   1584\u001b[0m         predictions\u001b[38;5;241m=\u001b[39mjson_response[\u001b[38;5;124m\"\u001b[39m\u001b[38;5;124mpredictions\u001b[39m\u001b[38;5;124m\"\u001b[39m],\n\u001b[1;32m   1585\u001b[0m         deployed_model_id\u001b[38;5;241m=\u001b[39mraw_predict_response\u001b[38;5;241m.\u001b[39mheaders[\n\u001b[0;32m   (...)\u001b[0m\n\u001b[1;32m   1593\u001b[0m         ),\n\u001b[1;32m   1594\u001b[0m     )\n\u001b[1;32m   1595\u001b[0m \u001b[38;5;28;01melse\u001b[39;00m:\n\u001b[0;32m-> 1596\u001b[0m     prediction_response \u001b[38;5;241m=\u001b[39m \u001b[38;5;28;43mself\u001b[39;49m\u001b[38;5;241;43m.\u001b[39;49m\u001b[43m_prediction_client\u001b[49m\u001b[38;5;241;43m.\u001b[39;49m\u001b[43mpredict\u001b[49m\u001b[43m(\u001b[49m\n\u001b[1;32m   1597\u001b[0m \u001b[43m        \u001b[49m\u001b[43mendpoint\u001b[49m\u001b[38;5;241;43m=\u001b[39;49m\u001b[38;5;28;43mself\u001b[39;49m\u001b[38;5;241;43m.\u001b[39;49m\u001b[43m_gca_resource\u001b[49m\u001b[38;5;241;43m.\u001b[39;49m\u001b[43mname\u001b[49m\u001b[43m,\u001b[49m\n\u001b[1;32m   1598\u001b[0m \u001b[43m        \u001b[49m\u001b[43minstances\u001b[49m\u001b[38;5;241;43m=\u001b[39;49m\u001b[43minstances\u001b[49m\u001b[43m,\u001b[49m\n\u001b[1;32m   1599\u001b[0m \u001b[43m        \u001b[49m\u001b[43mparameters\u001b[49m\u001b[38;5;241;43m=\u001b[39;49m\u001b[43mparameters\u001b[49m\u001b[43m,\u001b[49m\n\u001b[1;32m   1600\u001b[0m \u001b[43m        \u001b[49m\u001b[43mtimeout\u001b[49m\u001b[38;5;241;43m=\u001b[39;49m\u001b[43mtimeout\u001b[49m\u001b[43m,\u001b[49m\n\u001b[1;32m   1601\u001b[0m \u001b[43m    \u001b[49m\u001b[43m)\u001b[49m\n\u001b[1;32m   1603\u001b[0m     \u001b[38;5;28;01mreturn\u001b[39;00m Prediction(\n\u001b[1;32m   1604\u001b[0m         predictions\u001b[38;5;241m=\u001b[39m[\n\u001b[1;32m   1605\u001b[0m             json_format\u001b[38;5;241m.\u001b[39mMessageToDict(item)\n\u001b[0;32m   (...)\u001b[0m\n\u001b[1;32m   1610\u001b[0m         model_resource_name\u001b[38;5;241m=\u001b[39mprediction_response\u001b[38;5;241m.\u001b[39mmodel,\n\u001b[1;32m   1611\u001b[0m     )\n",
      "File \u001b[0;32m/opt/conda/lib/python3.10/site-packages/google/cloud/aiplatform_v1/services/prediction_service/client.py:604\u001b[0m, in \u001b[0;36mPredictionServiceClient.predict\u001b[0;34m(self, request, endpoint, instances, parameters, retry, timeout, metadata)\u001b[0m\n\u001b[1;32m    599\u001b[0m metadata \u001b[38;5;241m=\u001b[39m \u001b[38;5;28mtuple\u001b[39m(metadata) \u001b[38;5;241m+\u001b[39m (\n\u001b[1;32m    600\u001b[0m     gapic_v1\u001b[38;5;241m.\u001b[39mrouting_header\u001b[38;5;241m.\u001b[39mto_grpc_metadata(((\u001b[38;5;124m\"\u001b[39m\u001b[38;5;124mendpoint\u001b[39m\u001b[38;5;124m\"\u001b[39m, request\u001b[38;5;241m.\u001b[39mendpoint),)),\n\u001b[1;32m    601\u001b[0m )\n\u001b[1;32m    603\u001b[0m \u001b[38;5;66;03m# Send the request.\u001b[39;00m\n\u001b[0;32m--> 604\u001b[0m response \u001b[38;5;241m=\u001b[39m \u001b[43mrpc\u001b[49m\u001b[43m(\u001b[49m\n\u001b[1;32m    605\u001b[0m \u001b[43m    \u001b[49m\u001b[43mrequest\u001b[49m\u001b[43m,\u001b[49m\n\u001b[1;32m    606\u001b[0m \u001b[43m    \u001b[49m\u001b[43mretry\u001b[49m\u001b[38;5;241;43m=\u001b[39;49m\u001b[43mretry\u001b[49m\u001b[43m,\u001b[49m\n\u001b[1;32m    607\u001b[0m \u001b[43m    \u001b[49m\u001b[43mtimeout\u001b[49m\u001b[38;5;241;43m=\u001b[39;49m\u001b[43mtimeout\u001b[49m\u001b[43m,\u001b[49m\n\u001b[1;32m    608\u001b[0m \u001b[43m    \u001b[49m\u001b[43mmetadata\u001b[49m\u001b[38;5;241;43m=\u001b[39;49m\u001b[43mmetadata\u001b[49m\u001b[43m,\u001b[49m\n\u001b[1;32m    609\u001b[0m \u001b[43m\u001b[49m\u001b[43m)\u001b[49m\n\u001b[1;32m    611\u001b[0m \u001b[38;5;66;03m# Done; return the response.\u001b[39;00m\n\u001b[1;32m    612\u001b[0m \u001b[38;5;28;01mreturn\u001b[39;00m response\n",
      "File \u001b[0;32m/opt/conda/lib/python3.10/site-packages/google/api_core/gapic_v1/method.py:113\u001b[0m, in \u001b[0;36m_GapicCallable.__call__\u001b[0;34m(self, timeout, retry, *args, **kwargs)\u001b[0m\n\u001b[1;32m    110\u001b[0m     metadata\u001b[38;5;241m.\u001b[39mextend(\u001b[38;5;28mself\u001b[39m\u001b[38;5;241m.\u001b[39m_metadata)\n\u001b[1;32m    111\u001b[0m     kwargs[\u001b[38;5;124m\"\u001b[39m\u001b[38;5;124mmetadata\u001b[39m\u001b[38;5;124m\"\u001b[39m] \u001b[38;5;241m=\u001b[39m metadata\n\u001b[0;32m--> 113\u001b[0m \u001b[38;5;28;01mreturn\u001b[39;00m \u001b[43mwrapped_func\u001b[49m\u001b[43m(\u001b[49m\u001b[38;5;241;43m*\u001b[39;49m\u001b[43margs\u001b[49m\u001b[43m,\u001b[49m\u001b[43m \u001b[49m\u001b[38;5;241;43m*\u001b[39;49m\u001b[38;5;241;43m*\u001b[39;49m\u001b[43mkwargs\u001b[49m\u001b[43m)\u001b[49m\n",
      "File \u001b[0;32m/opt/conda/lib/python3.10/site-packages/google/api_core/grpc_helpers.py:67\u001b[0m, in \u001b[0;36m_wrap_unary_errors.<locals>.error_remapped_callable\u001b[0;34m(*args, **kwargs)\u001b[0m\n\u001b[1;32m     65\u001b[0m     \u001b[38;5;28;01mreturn\u001b[39;00m callable_(\u001b[38;5;241m*\u001b[39margs, \u001b[38;5;241m*\u001b[39m\u001b[38;5;241m*\u001b[39mkwargs)\n\u001b[1;32m     66\u001b[0m \u001b[38;5;28;01mexcept\u001b[39;00m grpc\u001b[38;5;241m.\u001b[39mRpcError \u001b[38;5;28;01mas\u001b[39;00m exc:\n\u001b[0;32m---> 67\u001b[0m     \u001b[38;5;28;01mraise\u001b[39;00m exceptions\u001b[38;5;241m.\u001b[39mfrom_grpc_error(exc) \u001b[38;5;28;01mfrom\u001b[39;00m \u001b[38;5;21;01mexc\u001b[39;00m\n",
      "\u001b[0;31mInvalidArgument\u001b[0m: 400 {\n    \"error\": \"input must be 4-dimensional[240,159,3]\\n\\t [[{{function_node __inference__wrapped_model_5919}}{{node sequential/resizing/resize/ResizeBilinear}}]]\"\n}"
     ]
    }
   ],
   "source": [
    "endpoint.predict(instances=x_test).predictions"
   ]
  },
  {
   "cell_type": "code",
   "execution_count": 17,
   "id": "76e3b606-6622-4272-89e4-042070c868fa",
   "metadata": {},
   "outputs": [],
   "source": [
    "tmp_x_test = np.array(x_test)"
   ]
  },
  {
   "cell_type": "code",
   "execution_count": 19,
   "id": "da505a75-85e3-49fe-b19e-41a0430bab8b",
   "metadata": {},
   "outputs": [
    {
     "data": {
      "text/plain": [
       "(240, 159, 3)"
      ]
     },
     "execution_count": 19,
     "metadata": {},
     "output_type": "execute_result"
    }
   ],
   "source": [
    "tmp_x_test.shape"
   ]
  },
  {
   "cell_type": "code",
   "execution_count": 20,
   "id": "cd9a8353-f565-4487-b109-c52208ba16c3",
   "metadata": {},
   "outputs": [],
   "source": [
    "tmp_x_test2 = np.array([x_test])"
   ]
  },
  {
   "cell_type": "code",
   "execution_count": 22,
   "id": "b0aa043d-ab9a-4fc5-9abd-57443b58db43",
   "metadata": {},
   "outputs": [
    {
     "data": {
      "text/plain": [
       "(1, 240, 159, 3)"
      ]
     },
     "execution_count": 22,
     "metadata": {},
     "output_type": "execute_result"
    }
   ],
   "source": [
    "tmp_x_test2.shape"
   ]
  },
  {
   "cell_type": "code",
   "execution_count": 27,
   "id": "6e1baf06-7e51-449d-88a3-c2c9485d9f37",
   "metadata": {},
   "outputs": [
    {
     "data": {
      "text/plain": [
       "[[0.000143064186, 0.999798357, 2.22439758e-05, 2.89712e-08, 3.63707768e-05]]"
      ]
     },
     "execution_count": 27,
     "metadata": {},
     "output_type": "execute_result"
    }
   ],
   "source": [
    "endpoint.predict(instances=[x_test]).predictions"
   ]
  },
  {
   "cell_type": "markdown",
   "id": "71edf82f-9324-4bbb-9d5f-f1799d68e9f5",
   "metadata": {},
   "source": [
    "# 일괄예측"
   ]
  },
  {
   "cell_type": "code",
   "execution_count": 28,
   "id": "d3a32746-b312-4ed3-ace3-cda2f4d61ab2",
   "metadata": {},
   "outputs": [
    {
     "name": "stdout",
     "output_type": "stream",
     "text": [
      "Copying file://test-data.json [Content-Type=application/json]...\n",
      "/ [1 files][738.5 KiB/738.5 KiB]                                                \n",
      "Operation completed over 1 objects/738.5 KiB.                                    \n"
     ]
    }
   ],
   "source": [
    "import json\n",
    "with open('test-data.json', 'w') as fp:\n",
    "    json.dump(x_test, fp)\n",
    "\n",
    "!gsutil cp test-data.json gs://mlops-gcp-407708-bucket"
   ]
  },
  {
   "cell_type": "code",
   "execution_count": 29,
   "id": "4fefa82c-4cf4-4d76-9cc5-cbfc5fb06dd0",
   "metadata": {},
   "outputs": [],
   "source": [
    "my_model=aiplatform.Model(\"projects/303664939156/locations/asia-northeast3/models/3465704631215063040\")"
   ]
  },
  {
   "cell_type": "code",
   "execution_count": 30,
   "id": "aec8553b-ce62-4f78-9ab9-a98ad1b7177b",
   "metadata": {},
   "outputs": [
    {
     "name": "stdout",
     "output_type": "stream",
     "text": [
      "Creating BatchPredictionJob\n",
      "BatchPredictionJob created. Resource name: projects/303664939156/locations/asia-northeast3/batchPredictionJobs/2336323670558900224\n",
      "To use this BatchPredictionJob in another session:\n",
      "bpj = aiplatform.BatchPredictionJob('projects/303664939156/locations/asia-northeast3/batchPredictionJobs/2336323670558900224')\n",
      "View Batch Prediction Job:\n",
      "https://console.cloud.google.com/ai/platform/locations/asia-northeast3/batch-predictions/2336323670558900224?project=303664939156\n",
      "BatchPredictionJob projects/303664939156/locations/asia-northeast3/batchPredictionJobs/2336323670558900224 current state:\n",
      "JobState.JOB_STATE_PENDING\n",
      "BatchPredictionJob projects/303664939156/locations/asia-northeast3/batchPredictionJobs/2336323670558900224 current state:\n",
      "JobState.JOB_STATE_PENDING\n",
      "BatchPredictionJob projects/303664939156/locations/asia-northeast3/batchPredictionJobs/2336323670558900224 current state:\n",
      "JobState.JOB_STATE_PENDING\n",
      "BatchPredictionJob projects/303664939156/locations/asia-northeast3/batchPredictionJobs/2336323670558900224 current state:\n",
      "JobState.JOB_STATE_PENDING\n",
      "BatchPredictionJob projects/303664939156/locations/asia-northeast3/batchPredictionJobs/2336323670558900224 current state:\n",
      "JobState.JOB_STATE_RUNNING\n",
      "BatchPredictionJob projects/303664939156/locations/asia-northeast3/batchPredictionJobs/2336323670558900224 current state:\n",
      "JobState.JOB_STATE_RUNNING\n",
      "BatchPredictionJob projects/303664939156/locations/asia-northeast3/batchPredictionJobs/2336323670558900224 current state:\n",
      "JobState.JOB_STATE_RUNNING\n",
      "BatchPredictionJob projects/303664939156/locations/asia-northeast3/batchPredictionJobs/2336323670558900224 current state:\n",
      "JobState.JOB_STATE_RUNNING\n",
      "BatchPredictionJob projects/303664939156/locations/asia-northeast3/batchPredictionJobs/2336323670558900224 current state:\n",
      "JobState.JOB_STATE_SUCCEEDED\n",
      "BatchPredictionJob run completed. Resource name: projects/303664939156/locations/asia-northeast3/batchPredictionJobs/2336323670558900224\n"
     ]
    }
   ],
   "source": [
    "batch_prediction_job = my_model.batch_predict(\n",
    "    job_display_name='flower_batch_predict',\n",
    "    gcs_source='gs://mlops-gcp-407708-bucket/test-data.json',\n",
    "    gcs_destination_prefix='gs://mlops-gcp-407708-bucket/prediction-results',\n",
    "    machine_type='n1-standard-4',)"
   ]
  }
 ],
 "metadata": {
  "kernelspec": {
   "display_name": "TensorFlow 2.10 (Local)",
   "language": "python",
   "name": "local-tf2-2-10"
  },
  "language_info": {
   "codemirror_mode": {
    "name": "ipython",
    "version": 3
   },
   "file_extension": ".py",
   "mimetype": "text/x-python",
   "name": "python",
   "nbconvert_exporter": "python",
   "pygments_lexer": "ipython3",
   "version": "3.10.12"
  }
 },
 "nbformat": 4,
 "nbformat_minor": 5
}
